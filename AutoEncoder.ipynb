{
  "cells": [
    {
      "cell_type": "code",
      "execution_count": 399,
      "metadata": {
        "id": "M8-5qdB9aktj"
      },
      "outputs": [],
      "source": [
        "import torch.nn as nn\n",
        "import torch.nn.functional as F\n",
        "import torch\n",
        "import matplotlib.pyplot as plt"
      ]
    },
    {
      "cell_type": "code",
      "execution_count": 400,
      "metadata": {
        "id": "q8DdHVoPaktk"
      },
      "outputs": [],
      "source": [
        "from torchvision import datasets, transforms\n",
        "\n",
        "mnist_trainset = datasets.MNIST(root='./data', download=True, transform=transforms.ToTensor())\n"
      ]
    },
    {
      "cell_type": "code",
      "execution_count": 401,
      "metadata": {},
      "outputs": [],
      "source": [
        "import math\n",
        "\n",
        "def calc_H_out_conv2d(H_in, kernel_size, stride, padding):\n",
        "    return math.floor((H_in + 2 * padding - kernel_size) / stride + 1)\n",
        "\n",
        "def calc_H_out_conv2d_transpose(H_in, kernel_size, stride, padding):\n",
        "    return (H_in - 1) * stride - 2 * padding + kernel_size\n"
      ]
    },
    {
      "cell_type": "code",
      "execution_count": 402,
      "metadata": {},
      "outputs": [
        {
          "name": "stdout",
          "output_type": "stream",
          "text": [
            "16\n",
            "8\n",
            "4\n",
            "1\n"
          ]
        }
      ],
      "source": [
        "print(calc_H_out_conv2d(28, 15, 1, 1))\n",
        "print(calc_H_out_conv2d(16, 3, 2, 1))\n",
        "print(calc_H_out_conv2d(8, 3, 2, 1))\n",
        "print(calc_H_out_conv2d(4, 5, 2, 1))"
      ]
    },
    {
      "cell_type": "code",
      "execution_count": 403,
      "metadata": {
        "id": "NJKib5ePaktl"
      },
      "outputs": [],
      "source": [
        "# our encoder make 64x1x1 tensor from 1x28x28 tensor\n",
        "\n",
        "class Encoder(nn.Module):\n",
        "    def __init__(self):\n",
        "        super(Encoder, self).__init__()\n",
        "        self.conv1 = nn.Conv2d(in_channels=1, out_channels=8, kernel_size=15, stride=1, padding=1)     # 8x16x16\n",
        "        self.conv2 = nn.Conv2d(in_channels=8, out_channels=16, kernel_size=3, stride=2, padding=1)     # 16x8x8\n",
        "        self.conv3 = nn.Conv2d(in_channels=16, out_channels=32, kernel_size=3, stride=2, padding=1)     # 32x4x4\n",
        "        self.conv4 = nn.Conv2d(in_channels=32, out_channels=64, kernel_size=5, stride=2, padding=1)     # 64x1x1\n",
        "        \n",
        "\n",
        "\n",
        "\n",
        "    def forward(self, x):\n",
        "        x = F.relu(self.conv1(x))\n",
        "        x = F.relu(self.conv2(x))\n",
        "        x = F.relu(self.conv3(x))\n",
        "        x = F.relu(self.conv4(x))\n",
        "\n",
        "        return x"
      ]
    },
    {
      "cell_type": "code",
      "execution_count": 404,
      "metadata": {},
      "outputs": [
        {
          "name": "stdout",
          "output_type": "stream",
          "text": [
            "4\n",
            "8\n",
            "16\n",
            "28\n"
          ]
        }
      ],
      "source": [
        "print(calc_H_out_conv2d_transpose(1, 4, 1, 0))\n",
        "print(calc_H_out_conv2d_transpose(4, 2, 2, 0))\n",
        "print(calc_H_out_conv2d_transpose(8, 2, 2, 0))\n",
        "print(calc_H_out_conv2d_transpose(16, 4, 2, 3))\n",
        "\n"
      ]
    },
    {
      "cell_type": "code",
      "execution_count": 405,
      "metadata": {
        "id": "7yelYJ5xaktl"
      },
      "outputs": [],
      "source": [
        "# our decoder make 1x28x28 tensor from 64x1x1 tensor\n",
        "\n",
        "class Decoder(nn.Module):\n",
        "    def __init__(self):\n",
        "        super(Decoder, self).__init__()\n",
        "        self.conv1 = nn.ConvTranspose2d(in_channels=64, out_channels=32, kernel_size=4, stride=1, padding=0)       # 32x4x4\n",
        "        self.conv2 = nn.ConvTranspose2d(in_channels=32, out_channels=16, kernel_size=2, stride=2, padding=0)       # 16x8x8\n",
        "        self.conv3 = nn.ConvTranspose2d(in_channels=16, out_channels=8, kernel_size=2, stride=2, padding=0)       # 8x16x16\n",
        "        self.conv4 = nn.ConvTranspose2d(in_channels=8, out_channels=1, kernel_size=4, stride=2, padding=3)         # 1x28x28\n",
        "\n",
        "    def forward(self, x):\n",
        "        x = F.relu(self.conv1(x))\n",
        "        x = F.relu(self.conv2(x))\n",
        "        x = F.relu(self.conv3(x))\n",
        "        x = F.relu(self.conv4(x))\n",
        "        return x"
      ]
    },
    {
      "cell_type": "code",
      "execution_count": 406,
      "metadata": {
        "id": "6yaIT17Kaktm"
      },
      "outputs": [],
      "source": [
        "class Autoencoder(nn.Module):\n",
        "    def __init__(self):\n",
        "        super(Autoencoder, self).__init__()\n",
        "        self.encoder = Encoder()\n",
        "        self.decoder = Decoder()\n",
        "\n",
        "    def forward(self, x):\n",
        "        x = self.encoder(x)\n",
        "        x = self.decoder(x)\n",
        "        return x"
      ]
    },
    {
      "cell_type": "code",
      "execution_count": 407,
      "metadata": {
        "id": "qC978SVQaktm"
      },
      "outputs": [],
      "source": [
        "model = Autoencoder()\n",
        "\n",
        "optimizer = torch.optim.Adam(model.parameters(), lr=1e-3)\n",
        "loss_fn = nn.MSELoss()\n"
      ]
    },
    {
      "cell_type": "code",
      "execution_count": 408,
      "metadata": {
        "id": "FTvh0s80aktn"
      },
      "outputs": [
        {
          "data": {
            "image/png": "[encoded data removed]",
            "text/plain": [
              "<Figure size 2000x400 with 20 Axes>"
            ]
          },
          "metadata": {},
          "output_type": "display_data"
        }
      ],
      "source": [
        "# show 10 image from dataset and their reconstruction from untrained model\n",
        "\n",
        "fig, axs = plt.subplots(2, 10, figsize=(20, 4))\n",
        "for i in range(10):\n",
        "    img, _ = mnist_trainset[i]\n",
        "    axs[0, i].imshow(img[0], cmap='gray')\n",
        "    axs[0, i].axis('off')\n",
        "    axs[1, i].imshow(model(img.unsqueeze(0)).detach().numpy()[0][0], cmap='gray')\n",
        "    axs[1, i].axis('off')\n",
        "\n",
        "plt.show()"
      ]
    },
    {
      "cell_type": "code",
      "execution_count": 409,
      "metadata": {
        "colab": {
          "base_uri": "https://localhost:8080/"
        },
        "id": "iRUammVAanIs",
        "outputId": "87c6936a-79b1-4150-9cac-46252dea4def"
      },
      "outputs": [
        {
          "name": "stdout",
          "output_type": "stream",
          "text": [
            "epoch [1/15], loss:0.02696598348915577\n",
            "epoch [2/15], loss:0.01071994191110134\n",
            "epoch [3/15], loss:0.00874326971595486\n",
            "epoch [4/15], loss:0.008005279095470906\n",
            "epoch [5/15], loss:0.007621018915126721\n",
            "epoch [6/15], loss:0.0073509906594951945\n",
            "epoch [7/15], loss:0.007165019701917966\n",
            "epoch [8/15], loss:0.007005065803229809\n",
            "epoch [9/15], loss:0.00688216287518541\n",
            "epoch [10/15], loss:0.006774834158023198\n",
            "epoch [11/15], loss:0.006684160786122084\n",
            "epoch [12/15], loss:0.006604504313816627\n",
            "epoch [13/15], loss:0.006539112131297588\n",
            "epoch [14/15], loss:0.006474949884911378\n",
            "epoch [15/15], loss:0.0064149895665546255\n"
          ]
        }
      ],
      "source": [
        "from torch.utils.data import DataLoader\n",
        "\n",
        "batch_size = 32\n",
        "train_loader = DataLoader(mnist_trainset, batch_size=batch_size, shuffle=True)\n",
        "\n",
        "n_epochs = 15\n",
        "\n",
        "# train model\n",
        "\n",
        "for epoch in range(n_epochs):\n",
        "    model.train()\n",
        "    total_loss = 0\n",
        "\n",
        "    for data in train_loader:\n",
        "        img, _ = data\n",
        "        optimizer.zero_grad()\n",
        "        output = model(img)\n",
        "        loss = loss_fn(output, img)\n",
        "        total_loss += loss.item()\n",
        "        loss.backward()\n",
        "        optimizer.step()\n",
        "    \n",
        "    average_loss = total_loss / len(train_loader)\n",
        "    print(f'epoch [{epoch+1}/{n_epochs}], loss:{average_loss}')"
      ]
    },
    {
      "cell_type": "code",
      "execution_count": 410,
      "metadata": {
        "id": "GJuYwa0ldGV0"
      },
      "outputs": [
        {
          "data": {
            "image/png": "[encoded data removed]",
            "text/plain": [
              "<Figure size 2000x400 with 20 Axes>"
            ]
          },
          "metadata": {},
          "output_type": "display_data"
        }
      ],
      "source": [
        "# show 10 image from dataset and their reconstruction from trained model\n",
        "\n",
        "fig, axs = plt.subplots(2, 10, figsize=(20, 4))\n",
        "for i in range(10):\n",
        "    img, _ = mnist_trainset[i]\n",
        "    axs[0, i].imshow(img[0], cmap='gray')\n",
        "    axs[0, i].axis('off')\n",
        "    axs[1, i].imshow(model(img.unsqueeze(0)).detach().numpy()[0][0], cmap='gray')\n",
        "    axs[1, i].axis('off')\n",
        "\n",
        "plt.show()"
      ]
    }
  ],
  "metadata": {
    "colab": {
      "provenance": []
    },
    "kernelspec": {
      "display_name": "ml",
      "language": "python",
      "name": "python3"
    },
    "language_info": {
      "codemirror_mode": {
        "name": "ipython",
        "version": 3
      },
      "file_extension": ".py",
      "mimetype": "text/x-python",
      "name": "python",
      "nbconvert_exporter": "python",
      "pygments_lexer": "ipython3",
      "version": "3.12.2"
    }
  },
  "nbformat": 4,
  "nbformat_minor": 0
}
